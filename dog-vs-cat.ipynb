{
 "cells": [
  {
   "cell_type": "code",
   "execution_count": 1,
   "id": "5e36b53b",
   "metadata": {
    "_cell_guid": "b1076dfc-b9ad-4769-8c92-a6c4dae69d19",
    "_uuid": "8f2839f25d086af736a60e9eeb907d3b93b6e0e5",
    "execution": {
     "iopub.execute_input": "2025-01-27T11:59:08.082708Z",
     "iopub.status.busy": "2025-01-27T11:59:08.082335Z",
     "iopub.status.idle": "2025-01-27T11:59:15.336064Z",
     "shell.execute_reply": "2025-01-27T11:59:15.335150Z"
    },
    "papermill": {
     "duration": 7.258759,
     "end_time": "2025-01-27T11:59:15.337703",
     "exception": false,
     "start_time": "2025-01-27T11:59:08.078944",
     "status": "completed"
    },
    "tags": []
   },
   "outputs": [],
   "source": [
    "import torch\n",
    "import torch.nn as nn\n",
    "import torch.optim as optim\n",
    "from torchvision import datasets, transforms\n",
    "from torch.utils.data import DataLoader\n",
    "import matplotlib.pyplot as plt\n",
    "import numpy as np\n",
    "from PIL import Image\n",
    "#from zipfile import ZipFile\n",
    "import os"
   ]
  },
  {
   "cell_type": "code",
   "execution_count": 2,
   "id": "313e750d",
   "metadata": {
    "execution": {
     "iopub.execute_input": "2025-01-27T11:59:15.342509Z",
     "iopub.status.busy": "2025-01-27T11:59:15.342133Z",
     "iopub.status.idle": "2025-01-27T11:59:15.346718Z",
     "shell.execute_reply": "2025-01-27T11:59:15.345665Z"
    },
    "papermill": {
     "duration": 0.008093,
     "end_time": "2025-01-27T11:59:15.347936",
     "exception": false,
     "start_time": "2025-01-27T11:59:15.339843",
     "status": "completed"
    },
    "tags": []
   },
   "outputs": [
    {
     "name": "stdout",
     "output_type": "stream",
     "text": [
      "/kaggle/working\n"
     ]
    }
   ],
   "source": [
    "import os\n",
    "print(os.getcwd())\n"
   ]
  },
  {
   "cell_type": "code",
   "execution_count": 3,
   "id": "82c73cf5",
   "metadata": {
    "execution": {
     "iopub.execute_input": "2025-01-27T11:59:15.352007Z",
     "iopub.status.busy": "2025-01-27T11:59:15.351783Z",
     "iopub.status.idle": "2025-01-27T11:59:15.355550Z",
     "shell.execute_reply": "2025-01-27T11:59:15.354772Z"
    },
    "papermill": {
     "duration": 0.007196,
     "end_time": "2025-01-27T11:59:15.356856",
     "exception": false,
     "start_time": "2025-01-27T11:59:15.349660",
     "status": "completed"
    },
    "tags": []
   },
   "outputs": [
    {
     "name": "stdout",
     "output_type": "stream",
     "text": [
      "['__notebook__.ipynb']\n"
     ]
    }
   ],
   "source": [
    "print(os.listdir())"
   ]
  },
  {
   "cell_type": "code",
   "execution_count": 4,
   "id": "434f2669",
   "metadata": {
    "execution": {
     "iopub.execute_input": "2025-01-27T11:59:15.362130Z",
     "iopub.status.busy": "2025-01-27T11:59:15.361927Z",
     "iopub.status.idle": "2025-01-27T11:59:15.371620Z",
     "shell.execute_reply": "2025-01-27T11:59:15.370813Z"
    },
    "papermill": {
     "duration": 0.014233,
     "end_time": "2025-01-27T11:59:15.372835",
     "exception": false,
     "start_time": "2025-01-27T11:59:15.358602",
     "status": "completed"
    },
    "tags": []
   },
   "outputs": [
    {
     "data": {
      "text/plain": [
       "['dog', 'cat']"
      ]
     },
     "execution_count": 4,
     "metadata": {},
     "output_type": "execute_result"
    }
   ],
   "source": [
    "path = '/kaggle/input/cat-and-dog-classification-using-cnn/dog-vs-cat'\n",
    "classes = os.listdir(path)\n",
    "classes\n"
   ]
  },
  {
   "cell_type": "code",
   "execution_count": 5,
   "id": "3fe741bf",
   "metadata": {
    "execution": {
     "iopub.execute_input": "2025-01-27T11:59:15.377085Z",
     "iopub.status.busy": "2025-01-27T11:59:15.376881Z",
     "iopub.status.idle": "2025-01-27T11:59:15.429495Z",
     "shell.execute_reply": "2025-01-27T11:59:15.428696Z"
    },
    "papermill": {
     "duration": 0.056177,
     "end_time": "2025-01-27T11:59:15.430806",
     "exception": false,
     "start_time": "2025-01-27T11:59:15.374629",
     "status": "completed"
    },
    "tags": []
   },
   "outputs": [
    {
     "data": {
      "text/plain": [
       "device(type='cuda')"
      ]
     },
     "execution_count": 5,
     "metadata": {},
     "output_type": "execute_result"
    }
   ],
   "source": [
    "device = torch.device(\"cuda\" if torch.cuda.is_available() else \"cpu\")\n",
    "device"
   ]
  },
  {
   "cell_type": "code",
   "execution_count": null,
   "id": "b0b97212",
   "metadata": {
    "papermill": {
     "duration": 0.001663,
     "end_time": "2025-01-27T11:59:15.434373",
     "exception": false,
     "start_time": "2025-01-27T11:59:15.432710",
     "status": "completed"
    },
    "tags": []
   },
   "outputs": [],
   "source": []
  }
 ],
 "metadata": {
  "kaggle": {
   "accelerator": "none",
   "dataSources": [
    {
     "datasetId": 5656727,
     "sourceId": 9335148,
     "sourceType": "datasetVersion"
    }
   ],
   "dockerImageVersionId": 30839,
   "isGpuEnabled": false,
   "isInternetEnabled": true,
   "language": "python",
   "sourceType": "notebook"
  },
  "kernelspec": {
   "display_name": "Python 3",
   "language": "python",
   "name": "python3"
  },
  "language_info": {
   "codemirror_mode": {
    "name": "ipython",
    "version": 3
   },
   "file_extension": ".py",
   "mimetype": "text/x-python",
   "name": "python",
   "nbconvert_exporter": "python",
   "pygments_lexer": "ipython3",
   "version": "3.10.12"
  },
  "papermill": {
   "default_parameters": {},
   "duration": 11.217829,
   "end_time": "2025-01-27T11:59:16.756798",
   "environment_variables": {},
   "exception": null,
   "input_path": "__notebook__.ipynb",
   "output_path": "__notebook__.ipynb",
   "parameters": {},
   "start_time": "2025-01-27T11:59:05.538969",
   "version": "2.6.0"
  }
 },
 "nbformat": 4,
 "nbformat_minor": 5
}
